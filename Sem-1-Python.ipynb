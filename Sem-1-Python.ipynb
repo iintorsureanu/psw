{
  "metadata": {
    "kernelspec": {
      "display_name": "Python 3.6",
      "name": "python36",
      "language": "python"
    },
    "language_info": {
      "mimetype": "text/x-python",
      "nbconvert_exporter": "python",
      "name": "python",
      "pygments_lexer": "ipython3",
      "version": "3.6.6",
      "file_extension": ".py",
      "codemirror_mode": {
        "version": 3,
        "name": "ipython"
      }
    }
  },
  "nbformat_minor": 2,
  "nbformat": 4,
  "cells": [
    {
      "cell_type": "code",
      "source": "x = \"Software Packages\"\nprint(\"Seminar \" + x)",
      "metadata": {
        "collapsed": true,
        "trusted": true
      },
      "execution_count": null,
      "outputs": []
    },
    {
      "cell_type": "code",
      "source": "x = \"Seminar \"\ny = \"Software Packages\"\nz =  x + y\nprint(z)",
      "metadata": {
        "trusted": true
      },
      "execution_count": null,
      "outputs": []
    },
    {
      "cell_type": "code",
      "source": "x = 5\ny = 10\nprint(x + y)",
      "metadata": {
        "trusted": true
      },
      "execution_count": null,
      "outputs": []
    },
    {
      "cell_type": "code",
      "source": "x = 5\ny = \"Python\"\nprint(x + y)",
      "metadata": {
        "trusted": true
      },
      "execution_count": null,
      "outputs": []
    },
    {
      "cell_type": "code",
      "source": "print('Python', 'version', 3.8)\nprint('Second line of text.')",
      "metadata": {
        "trusted": true
      },
      "execution_count": null,
      "outputs": []
    },
    {
      "cell_type": "code",
      "source": "print('Python', 'version', 3.8, sep='_', end='|')\nprint('Second line of text.')",
      "metadata": {
        "trusted": true
      },
      "execution_count": null,
      "outputs": []
    },
    {
      "cell_type": "code",
      "source": "x = 1    # int\ny = 2.8  # float\nz = 2+3j   # complex\nb = True # bool\ns = 'Python' #string",
      "metadata": {
        "trusted": true
      },
      "execution_count": null,
      "outputs": []
    },
    {
      "cell_type": "code",
      "source": "print(type(x))\nprint(type(y))\nprint(type(z))\nprint(type(b))\nprint(type(s))",
      "metadata": {
        "trusted": true
      },
      "execution_count": null,
      "outputs": []
    },
    {
      "cell_type": "code",
      "source": "x = 1\ny = 35656222554887711\nz = -3255522\nprint(type(x))\nprint(type(y))\nprint(type(z))",
      "metadata": {
        "trusted": true
      },
      "execution_count": null,
      "outputs": []
    },
    {
      "cell_type": "code",
      "source": "x = 1.10\ny = 1.0\nz = -35.59\nprint(type(x))\nprint(type(y))\nprint(type(z))",
      "metadata": {
        "trusted": true
      },
      "execution_count": null,
      "outputs": []
    },
    {
      "cell_type": "code",
      "source": "x = 35e3\ny = 12E4\nz = -87.7e100\nprint(type(x))\nprint(type(y))\nprint(type(z)) ",
      "metadata": {
        "trusted": true
      },
      "execution_count": null,
      "outputs": []
    },
    {
      "cell_type": "code",
      "source": "x = 3+5j\ny = 5j\nz = -5j\nprint(type(x))\nprint(type(y))\nprint(type(z))",
      "metadata": {
        "trusted": true
      },
      "execution_count": null,
      "outputs": []
    },
    {
      "cell_type": "code",
      "source": "x = int(1)   # 1\ny = int(2.8) # 2\nz = int(\"3\") # 3\nprint(x, y, z, sep='\\n')",
      "metadata": {
        "trusted": true
      },
      "execution_count": null,
      "outputs": []
    },
    {
      "cell_type": "code",
      "source": "x = float(1)     # 1.0\ny = float(2.8)   # 2.8\nz = float(\"3\")   # 3.0\nw = float(\"4.2\") # 4.2\nprint(x, y, z,w, sep='\\n')",
      "metadata": {
        "trusted": true
      },
      "execution_count": null,
      "outputs": []
    },
    {
      "cell_type": "code",
      "source": "x = str(\"s1\") # 's1' \ny = str(2)    # '2'\nz = str(3.0)  # '3.0'\nprint(x, y, z, sep='\\n')",
      "metadata": {
        "trusted": true
      },
      "execution_count": null,
      "outputs": []
    },
    {
      "cell_type": "code",
      "source": "b1 = bool(22)\nb2 = bool(0)\nb3 = bool('Text')\nb4 = bool('')\nprint(b1, b2, b3, b4, sep='\\n')",
      "metadata": {
        "trusted": true
      },
      "execution_count": null,
      "outputs": []
    },
    {
      "cell_type": "code",
      "source": "s1 = 'Jerry's Pizza' # error; mark this line as comment and run the script again\ns2 = \"Jerry's Pizza\"\ns3 = 'She said \"OK\".'\ns4 = \"He said \\\"Fine\\\".\"\ns5 = '''Triple quotes can contain ' and \",\nand separate multiline strings.'''\nprint(s2, s3, s4, s5, sep='\\n')",
      "metadata": {
        "trusted": true
      },
      "execution_count": null,
      "outputs": []
    },
    {
      "cell_type": "code",
      "source": "a = \"Software Packages seminar\"\nprint(a[1])\nprint(a[4:8])\nprint(a[-1])\nprint(a[:4])\nprint(a[-7:])\nprint(a[:])\nprint(a[::2]) #slice notation with step 2",
      "metadata": {
        "trusted": true
      },
      "execution_count": null,
      "outputs": []
    },
    {
      "cell_type": "code",
      "source": "a = \"            Software Packages seminar  \"\nprint(a.strip())# returns \"Software Packages seminar\" \nprint(a)",
      "metadata": {
        "trusted": true
      },
      "execution_count": null,
      "outputs": []
    },
    {
      "cell_type": "code",
      "source": "a = \"Software Packages seminar\"\nprint(len(a))\nprint(a.lower()) \nprint(a.upper())\nprint(a.replace(\" \", \"\"))\nprint(a.split(\" \")) # a list of words is generated: ['Software', 'Packages', 'seminar']",
      "metadata": {
        "trusted": true
      },
      "execution_count": null,
      "outputs": []
    },
    {
      "cell_type": "code",
      "source": "x = 5\ny = \"Python\"\nprint(x)\nprint(y)",
      "metadata": {
        "trusted": true
      },
      "execution_count": null,
      "outputs": []
    },
    {
      "cell_type": "code",
      "source": "x = 4 # x of type int\nprint(x, type(x))\nx = \"Python\" # x is now of type str\nprint(x, type(x))",
      "metadata": {
        "trusted": true
      },
      "execution_count": null,
      "outputs": []
    },
    {
      "cell_type": "code",
      "source": "list1 = [\"laptop\", \"pen\", \"flipchart\"]\nlist2 = [ 1, 'abc', 2.5 ]\nlist3 = [] #empty list\nprint(list1) ",
      "metadata": {
        "trusted": true
      },
      "execution_count": null,
      "outputs": []
    },
    {
      "cell_type": "code",
      "source": "mylist = [\"laptop\", \"pen\", \"flipchart\"]\nprint(mylist[1])\n\nmylist[1] = \"marker\"\nprint(mylist)",
      "metadata": {
        "trusted": true
      },
      "execution_count": null,
      "outputs": []
    },
    {
      "cell_type": "code",
      "source": "#mylist = [\"laptop\", \"pen\", \"flipchart\"]\nprint(len(mylist))",
      "metadata": {
        "trusted": true
      },
      "execution_count": null,
      "outputs": []
    },
    {
      "cell_type": "code",
      "source": "#mylist = [\"laptop\", \"pen\", \"flipchart\"]\nmylist.append(\"backpack\")\nprint(mylist)",
      "metadata": {
        "trusted": true
      },
      "execution_count": null,
      "outputs": []
    },
    {
      "cell_type": "code",
      "source": "#mylist = [\"laptop\", \"pen\", \"flipchart\"]\nmylist.insert(1, \"phone\")\nprint(mylist)",
      "metadata": {
        "trusted": true
      },
      "execution_count": null,
      "outputs": []
    },
    {
      "cell_type": "code",
      "source": "#mylist = [\"laptop\", \"pen\", \"flipchart\"]\nmylist.remove(\"laptop\")\nprint(mylist) ",
      "metadata": {
        "trusted": true
      },
      "execution_count": null,
      "outputs": []
    },
    {
      "cell_type": "code",
      "source": "#mylist = [\"laptop\", \"pen\", \"flipchart\"]\nprint(mylist.pop())\nprint(mylist)",
      "metadata": {
        "trusted": true
      },
      "execution_count": null,
      "outputs": []
    },
    {
      "cell_type": "code",
      "source": "#mylist = [\"laptop\", \"pen\", \"flipchart\"]\ndel mylist[0]\nprint(mylist)",
      "metadata": {
        "trusted": true
      },
      "execution_count": null,
      "outputs": []
    },
    {
      "cell_type": "code",
      "source": "#mylist = [\"laptop\", \"pen\", \"flipchart\"]\ndel mylist\nprint(mylist) #error: the variable is not defined",
      "metadata": {
        "trusted": true
      },
      "execution_count": null,
      "outputs": []
    },
    {
      "cell_type": "code",
      "source": "mylist = [\"laptop\", \"pen\", \"flipchart\"]\nmylist.clear()\nprint(mylist)",
      "metadata": {
        "trusted": true
      },
      "execution_count": null,
      "outputs": []
    },
    {
      "cell_type": "code",
      "source": "mylist = list((\"laptop\", \"pen\", \"flipchart\")) #create list from tuple\nprint(mylist)",
      "metadata": {
        "trusted": true
      },
      "execution_count": null,
      "outputs": []
    },
    {
      "cell_type": "code",
      "source": "#Exercise 0.a: sort the list using list.sort() and sorted()",
      "metadata": {
        "trusted": true
      },
      "execution_count": null,
      "outputs": []
    },
    {
      "cell_type": "code",
      "source": "tup = (\"laptop\", \"pen\", \"flipchart\")\nprint(tup) \nprint(tup[1])",
      "metadata": {
        "trusted": true
      },
      "execution_count": null,
      "outputs": []
    },
    {
      "cell_type": "code",
      "source": "tup[1] = \"marker\" # error !",
      "metadata": {
        "trusted": true
      },
      "execution_count": null,
      "outputs": []
    },
    {
      "cell_type": "code",
      "source": "tup = tup + ('pen',) #concatenate with a one-element tuple\nprint(tup)\nprint(tup.count('pen'))\nprint(tup.index('flipchart'))",
      "metadata": {
        "trusted": true
      },
      "execution_count": null,
      "outputs": []
    },
    {
      "cell_type": "code",
      "source": "set1 = {\"laptop\", \"pen\", \"flipchart\"}\nprint(set1)\n\nlist1 = [2, 7, 3, 2]\nset2 = set(list1)\nprint(set2)",
      "metadata": {
        "trusted": true
      },
      "execution_count": null,
      "outputs": []
    },
    {
      "cell_type": "code",
      "source": "#Exercise 0.b: use a few set operation methods of your choice",
      "metadata": {
        "trusted": true
      },
      "execution_count": null,
      "outputs": []
    },
    {
      "cell_type": "code",
      "source": "dict = {\"laptop\":\"IBM\", \"pencil\":\"Faber Castell\", \"flipchart\":\"M3\"}\nprint(dict)",
      "metadata": {
        "trusted": true
      },
      "execution_count": null,
      "outputs": []
    },
    {
      "cell_type": "code",
      "source": "#dict = {\"laptop\":\"IBM\", \"pencil\":\"Faber Castell\", \"flipchart\":\"M3\"}\nprint(dict[\"laptop\"])\nprint(dict.get(\"laptop\"))",
      "metadata": {
        "trusted": true
      },
      "execution_count": null,
      "outputs": []
    },
    {
      "cell_type": "code",
      "source": "#dict = {\"laptop\":\"IBM\", \"pencil\":\"Faber Castell\", \"flipchart\":\"M3\"}\ndict[\"laptop\"] = \"HP\"\nprint(dict)",
      "metadata": {
        "trusted": true
      },
      "execution_count": null,
      "outputs": []
    },
    {
      "cell_type": "code",
      "source": "#Exercise 0.c: use a few dictionary operation methods of your choice",
      "metadata": {
        "trusted": true
      },
      "execution_count": null,
      "outputs": []
    },
    {
      "cell_type": "code",
      "source": "x=-100\n#x = int(input (\"Enter a number x: \"))\nif x<0:\n    print('x is negative')\nelif x==0:\n    print('x is zero')\nelse:\n    print('x is positive')",
      "metadata": {
        "trusted": true
      },
      "execution_count": null,
      "outputs": []
    },
    {
      "cell_type": "code",
      "source": "a = 1\nb = 3\nif a<b:\nprint('a is lower than b')",
      "metadata": {
        "trusted": true
      },
      "execution_count": null,
      "outputs": []
    },
    {
      "cell_type": "code",
      "source": "mylist = [\"laptop\", \"pencil\", \"flipchart\"]\nfor w in mylist:\n    print (w)",
      "metadata": {
        "trusted": true
      },
      "execution_count": null,
      "outputs": []
    },
    {
      "cell_type": "code",
      "source": "#mylist = [\"laptop\", \"pencil\", \"flipchart\"]\nfor w in mylist:\n    print (w[0], len(w))",
      "metadata": {
        "trusted": true
      },
      "execution_count": null,
      "outputs": []
    },
    {
      "cell_type": "code",
      "source": "mylist = [\"laptop\", \"pencil\", \"flipchart\"]\nfor x in mylist:\n    print(x)\n    if x == \"pencil\":\n        break",
      "metadata": {
        "trusted": true
      },
      "execution_count": null,
      "outputs": []
    },
    {
      "cell_type": "code",
      "source": "#mylist = [\"laptop\", \"pencil\", \"flipchart\"]\nfor x in mylist:\n    if x == \"pencil\":\n        break\n    print(x)",
      "metadata": {
        "trusted": true
      },
      "execution_count": null,
      "outputs": []
    },
    {
      "cell_type": "code",
      "source": "#mylist = [\"laptop\", \"pencil\", \"flipchart\"]\nfor x in mylist:\n    if x == \"pencil\":\n        continue\n    print(x)",
      "metadata": {
        "trusted": true
      },
      "execution_count": null,
      "outputs": []
    },
    {
      "cell_type": "code",
      "source": "for x in range(6):\n    print(x, end=' ')\nprint()\n\nfor x in range(2, 6):\n    print(x, end=' ')\nprint()\n\nfor x in range(2, 30, 3):\n    print(x, end=' ')\nprint()",
      "metadata": {
        "trusted": true
      },
      "execution_count": null,
      "outputs": []
    },
    {
      "cell_type": "code",
      "source": "# create list from range\nprint(list(range(6))) \nprint(list(range(2, 6))) \nprint(list(range(2, 30, 3)))",
      "metadata": {
        "trusted": true
      },
      "execution_count": null,
      "outputs": []
    },
    {
      "cell_type": "code",
      "source": "for x in range(6):\n    print(x)\nelse:\n    print(\"Program ended.\")",
      "metadata": {
        "trusted": true
      },
      "execution_count": null,
      "outputs": []
    },
    {
      "cell_type": "code",
      "source": "mylist = [\"laptop\", \"pencil\", \"flipchart\"]\ncolors = [\"red\", \"yellow\", \"green\"]\nfor x in mylist:\n    if x =='pencil' or x =='flipchart':\n        for y in colors:\n            print(y, x)",
      "metadata": {
        "trusted": true
      },
      "execution_count": null,
      "outputs": []
    },
    {
      "cell_type": "code",
      "source": "i = 1\nwhile i < 6:\n    print(i)\n    i += 1",
      "metadata": {
        "trusted": true
      },
      "execution_count": null,
      "outputs": []
    },
    {
      "cell_type": "code",
      "source": "i = 1\nwhile i < 6:\n    print(i)\n    if i == 3:\n        break\n    i += 1",
      "metadata": {
        "trusted": true
      },
      "execution_count": null,
      "outputs": []
    },
    {
      "cell_type": "code",
      "source": "i = 0\nwhile i < 6:\n    i += 1 \n    if i == 3:\n        continue\n    print(i)",
      "metadata": {
        "trusted": true
      },
      "execution_count": null,
      "outputs": []
    },
    {
      "cell_type": "code",
      "source": "str = input(\"Enter your name: \");\nprint (\"Hello,\", str, \"!\")",
      "metadata": {
        "trusted": true
      },
      "execution_count": null,
      "outputs": []
    },
    {
      "cell_type": "code",
      "source": "x=int(input('Enter a number:'))\nif x>0:\n    print(x,'is positive.')\nelse:\n    print(x,'is negative or zero.')",
      "metadata": {
        "trusted": true
      },
      "execution_count": null,
      "outputs": []
    },
    {
      "cell_type": "code",
      "source": "import math             #import entire module;\nprint(math.sqrt(25))    #the names must be qualified, \n                        #e.g. module.function()\nprint(math.pi)",
      "metadata": {
        "trusted": true
      },
      "execution_count": null,
      "outputs": []
    },
    {
      "cell_type": "code",
      "source": "from math import pi, sin, cos        #import specific items;\nprint(sin(pi/2), round(cos(pi/2),2)) #no qualification required !",
      "metadata": {
        "trusted": true
      },
      "execution_count": null,
      "outputs": []
    },
    {
      "cell_type": "code",
      "source": "import math as m, platform as p\nprint(round(m.pi, 5))\nprint(p.platform())",
      "metadata": {
        "trusted": true
      },
      "execution_count": null,
      "outputs": []
    },
    {
      "cell_type": "code",
      "source": "import math\ndir(math)",
      "metadata": {
        "trusted": true
      },
      "execution_count": null,
      "outputs": []
    },
    {
      "cell_type": "code",
      "source": "def my_function1(x): #function definition\n    result = x**2\n    print (result)\n    return result\n\n#calling the function - correct the error !\nmy_function1()",
      "metadata": {
        "trusted": true
      },
      "execution_count": null,
      "outputs": []
    },
    {
      "cell_type": "code",
      "source": "def my_function2(x=100):\n    result = x**2\n    print (result)\n    return result\n\n#calling the function\nmy_function2()\ny=my_function2(5)\nprint(y)",
      "metadata": {
        "trusted": true
      },
      "execution_count": null,
      "outputs": []
    },
    {
      "cell_type": "code",
      "source": "def my_function3(x,n):\n    result = x**n\n    return result\n\nprint(my_function3(4,3))",
      "metadata": {
        "trusted": true
      },
      "execution_count": null,
      "outputs": []
    },
    {
      "cell_type": "code",
      "source": "def recursive_f(k):\n    if(k>0):\n        result = k + recursive_f(k-1)\n        print(result)\n    else:\n        result = 0\n    return result\n\nprint(\"Calling the recursive function:\")\nrecursive_f(6)",
      "metadata": {
        "trusted": true
      },
      "execution_count": null,
      "outputs": []
    },
    {
      "cell_type": "code",
      "source": "x = lambda a : a + 10\nprint(x(5))",
      "metadata": {
        "trusted": true
      },
      "execution_count": null,
      "outputs": []
    },
    {
      "cell_type": "code",
      "source": "x = lambda a, b : a * b\nprint(x(5, 6))",
      "metadata": {
        "trusted": true
      },
      "execution_count": null,
      "outputs": []
    },
    {
      "cell_type": "code",
      "source": "x = lambda a, b, c : a + b + c\nprint(x(5, 6, 2)) ",
      "metadata": {
        "trusted": true
      },
      "execution_count": null,
      "outputs": []
    },
    {
      "cell_type": "code",
      "source": "# Exercise 1: Arithmetic operators\n# Write the expressions to calculate the ending time of an activity.\n# The starting time is given as hh, mm (hours, minutes) and the duration \n# is given in minutes.\nhh = 9 #starting time; test also for hh=23\nmm = 35\nd = 90 # duration\nmm2 =   #write an expression for ending time(minutes)\nhh2 =   #write an expression for ending time(hour)\nprint('Activity starts: {:02d}:{:02d} and takes {} minutes.'.format(hh,mm,d))\nprint('Activity ending time: {:02d}:{:02d}.'.format(hh2,mm2))",
      "metadata": {
        "trusted": true
      },
      "execution_count": null,
      "outputs": []
    },
    {
      "cell_type": "code",
      "source": "# Exercise 1: Solution:\n#mm2 = (mm + d)%60\n#hh2 = (hh + (mm+d) // 60)%24\n\nhh = 9 #starting time; test also for hh=23\nmm = 35\nd = 90 # duration\nmm2 = (mm + d)%60\nhh2 = (hh + (mm+d) // 60)%24\nprint('Activity starts: {:02d}:{:02d} and takes {} minutes.'.format(hh,mm,d))\nprint('Activity ending time: {:02d}:{:02d}.'.format(hh2,mm2))",
      "metadata": {
        "trusted": true
      },
      "execution_count": null,
      "outputs": []
    },
    {
      "cell_type": "code",
      "source": "# Exercise 2: SOLUTION\nmylist=[]\nn=int(input('How many elements ?'))\nif n <= 10:\n    for x in range(n):\n        x = int(input('Enter the element value: '))\n        mylist.append(x)\n    print('Initial list', mylist)\n    mylist.sort()\n    print('Sorted ascending', mylist)\nelse: print('Number too big (n>10). Please try again.')",
      "metadata": {
        "trusted": true
      },
      "execution_count": null,
      "outputs": []
    },
    {
      "cell_type": "code",
      "source": "# Exercise 3: SOLUTION\n\nmylist = ['Bucuresti', 'Iasi', 'Sibiu', 'Pitesti', 'Braila']\nmylist.sort(reverse = True, key = len)\nprint(mylist)",
      "metadata": {
        "trusted": true
      },
      "execution_count": null,
      "outputs": []
    },
    {
      "cell_type": "code",
      "source": "# Exercise 4: SOLUTION\n\nmylist = [['phone', 1000,2], ['laptop', 4500, 4], ['tablet',2000,5],['tv',2500,3]]\nfor r in mylist:\n    value=r[1]*r[2]\n    r.append(value)\n    #print (value)\nmylist.sort(key=lambda x:x[3])\nprint (mylist)",
      "metadata": {
        "trusted": true
      },
      "execution_count": null,
      "outputs": []
    },
    {
      "cell_type": "code",
      "source": "# Exercise 5: SOLUTION\nemp_list=['Popescu Vasile','Ionescu Gigel', 'Pop Maria']\ncust_list=['Ionescu Gigel', 'Costache Ioana', 'Anton Eugenia']\n\nfor name in emp_list:\n    if name in cust_list:\n        print(name)\n\n#emp_list.extend(cust_list)\n#for r in emp_list:\n#    if emp_list.count(r) > 1:\n#        print(r)",
      "metadata": {
        "trusted": true
      },
      "execution_count": null,
      "outputs": []
    },
    {
      "cell_type": "code",
      "source": "# Exercise 5b: SOLUTION\n# Solve the same exercise using sets and set operations.\n\nemp_set={'Popescu Vasile','Ionescu Gigel', 'Pop Maria'}\ncust_set={'Ionescu Gigel', 'Costache Ioana', 'Anton Eugenia'}\n\nprint(emp_set.intersection(cust_set))",
      "metadata": {
        "trusted": true
      },
      "execution_count": null,
      "outputs": []
    },
    {
      "cell_type": "code",
      "source": "# Exercise 6: SOLUTION\nemp_list = [{\"id\":1, \"name\":\"Johnson\", \"salary\":5000}, \n            {\"id\":2, \"name\":\"May\", \"salary\":4000}, \n            {\"id\":3, \"name\":\"Cameron\", \"salary\":6000}]\n\nfor emp in emp_list:\n    if emp[\"salary\"] < 5000:\n        print(emp)\n        s= emp[\"salary\"]\n        emp.update(salary = s*1.1)\n        print(\"Updated salary:\", emp[\"salary\"])\n    print(emp)",
      "metadata": {
        "trusted": true
      },
      "execution_count": null,
      "outputs": []
    }
  ]
}