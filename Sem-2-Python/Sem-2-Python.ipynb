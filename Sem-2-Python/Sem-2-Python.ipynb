{
  "metadata": {
    "kernelspec": {
      "name": "python36",
      "display_name": "Python 3.6",
      "language": "python"
    },
    "language_info": {
      "mimetype": "text/x-python",
      "nbconvert_exporter": "python",
      "name": "python",
      "pygments_lexer": "ipython3",
      "version": "3.6.6",
      "file_extension": ".py",
      "codemirror_mode": {
        "version": 3,
        "name": "ipython"
      }
    }
  },
  "nbformat_minor": 2,
  "nbformat": 4,
  "cells": [
    {
      "cell_type": "code",
      "source": "path=\"\" #set path to data files as required\n\n#Example 1\n\nf = open(\"Data1.txt\", \"r\")\nprint(f.read())\nf.close()",
      "metadata": {
        "collapsed": true,
        "trusted": true
      },
      "execution_count": null,
      "outputs": []
    },
    {
      "cell_type": "code",
      "source": "f = open(path+\"Data1.txt\", \"r\")\nprint(f.read(100))",
      "metadata": {
        "collapsed": true,
        "trusted": true
      },
      "execution_count": null,
      "outputs": []
    },
    {
      "cell_type": "code",
      "source": "print(f.readline())\nprint(f.readline())",
      "metadata": {
        "collapsed": true,
        "trusted": true
      },
      "execution_count": null,
      "outputs": []
    },
    {
      "cell_type": "code",
      "source": "#f = open(\"Data1.txt\", \"r\")\nfor line in f: #iterating the file object \n  print(line)\nf.close()",
      "metadata": {
        "collapsed": true,
        "trusted": true
      },
      "execution_count": null,
      "outputs": []
    },
    {
      "cell_type": "code",
      "source": "#Example 2\nwith open(path+'Data1.txt') as f:\n    lines=f.readlines() #read all text lines into a list\n\nprint(len(lines), 'lines read from file.')\n\nfor i in range(20):    #print the first 20 lines\n    print('Line',i+1,':',lines[i])",
      "metadata": {
        "trusted": true
      },
      "execution_count": null,
      "outputs": []
    },
    {
      "cell_type": "code",
      "source": "#Example 3\nf1 = open(path+'Data1.txt', 'a')\nf2 = open(path+'Data2.txt', 'r')\nfor line in f2:\n    f1.write(line)\nf1.close(); f2.close()\nprint(len(open(path+'Data1.txt').readlines()), 'lines in Data1.txt.')",
      "metadata": {
        "trusted": true
      },
      "execution_count": 3,
      "outputs": [
        {
          "text": "217 lines in Data1.txt.\n",
          "name": "stdout",
          "output_type": "stream"
        }
      ]
    },
    {
      "cell_type": "code",
      "source": "# pandas examples\n#=================",
      "metadata": {},
      "execution_count": null,
      "outputs": []
    },
    {
      "cell_type": "code",
      "source": "#Example 4\nimport pandas\ndf = pandas.read_csv('clients_leasing20.csv')\nprint(df.index)\nprint(df.columns)\nprint(df.head())\n#print(df.tail())",
      "metadata": {
        "trusted": true
      },
      "execution_count": 29,
      "outputs": [
        {
          "text": "RangeIndex(start=0, stop=20, step=1)\nIndex(['ID_CLIENT', 'NAME_CLIENT', 'JOB', 'SEX', 'CURRENCY', 'INCOME_PER_YEAR',\n       'DATE', 'AGE'],\n      dtype='object')\n   ID_CLIENT           NAME_CLIENT       JOB SEX CURRENCY  INCOME_PER_YEAR  \\\n0    3488784      Hajdu Ors Attila  Engineer   m      EUR         23000.00   \n1    4057671      Harpa Constantin    Worker   m      ROL          1000.00   \n2    7539733  Horvath Zoltan Ignac    Worker   m      ROL          1635.51   \n3    3180923         Herta Nicolae  Engineer   m      EUR          7000.00   \n4    1673453            Hagi Nazim  Engineer   m      ROL         16000.00   \n\n         DATE  AGE  \n0  14-04-2006   35  \n1  31-08-2009   35  \n2    8/5/2007   25  \n3    9/3/2006   33  \n4  27-10-2009   44  \n",
          "name": "stdout",
          "output_type": "stream"
        }
      ]
    },
    {
      "cell_type": "code",
      "source": "#Example 5\n#import pandas\ndf = pandas.read_csv('clients_leasing20.csv')\nprint(df.iloc[2])       #print the 3rd row - Series obj.\nprint(df.iloc[[1,3,5]]) #print specific rows (as list of row numbers),\n                        # - Frame obj.",
      "metadata": {
        "trusted": true
      },
      "execution_count": null,
      "outputs": []
    },
    {
      "cell_type": "code",
      "source": "#Example 6\n#import pandas\ndf = pandas.read_csv('clients_leasing20.csv')\nprint(df.iloc[2, 0]) #print the value in 3rd row, first column\nprint(df.iloc[[1,3,5], [0,2]]) #print specific rows and columns",
      "metadata": {
        "trusted": true
      },
      "execution_count": 9,
      "outputs": [
        {
          "text": "7539733\n   ID_CLIENT        JOB\n1    4057671     Worker\n3    3180923   Engineer\n5    2213309  Professor\n",
          "name": "stdout",
          "output_type": "stream"
        }
      ]
    },
    {
      "cell_type": "code",
      "source": "#Example 7\n#import pandas\ndf = pandas.read_csv('clients_leasing20.csv')\n\nprint(df.iloc[3:6]) # row slicing\n#print(df.iloc[:5])\n#print(df.iloc[15:])\n\nprint(df.iloc[7:10, 2:5])  #  rows 7 to 9, columns 2 to 4\n#print(df.iloc[0, :]) #first row, all columns",
      "metadata": {
        "trusted": true
      },
      "execution_count": 13,
      "outputs": [
        {
          "text": "   ID_CLIENT    NAME_CLIENT        JOB SEX CURRENCY  INCOME_PER_YEAR  \\\n3    3180923  Herta Nicolae   Engineer   m      EUR           7000.0   \n4    1673453     Hagi Nazim   Engineer   m      ROL          16000.0   \n5    2213309    Handa Maria  Professor   f      ROL              0.0   \n\n         DATE  AGE  \n3    9/3/2006   33  \n4  27-10-2009   44  \n5    7/9/2010   54  \n                JOB SEX CURRENCY\n7  Asistent medical   m      ROL\n8  Asistent medical   f      ROL\n9          Engineer   m      EUR\n",
          "name": "stdout",
          "output_type": "stream"
        }
      ]
    },
    {
      "cell_type": "code",
      "source": "#Example 8\n#import pandas\ndf = pandas.read_csv('clients_leasing20.csv')\nprint(df.loc[ : ,'NAME_CLIENT'])\n\n# when selecting a single column, the following expressions may also be used:\n#print(df['NAME_CLIENT']) # dictionary-style indexing\n#print(df.NAME_CLIENT)    # attribute-style access (if column names are strings)\n\nprint(df.loc[5, 'NAME_CLIENT']) # row 5, column Name\nprint(df.loc[[5,10],['NAME_CLIENT','JOB']]) # rows list, columns list",
      "metadata": {
        "trusted": true
      },
      "execution_count": null,
      "outputs": []
    },
    {
      "cell_type": "code",
      "source": "#Example 9\n#import pandas\ndf = pandas.read_csv('clients_leasing20.csv')\n\nprint(df.loc[:, 'ID_CLIENT':'JOB']) #\n\n#print(df.loc[0, :'JOB']) # slice with upper bound only\n#print(df.loc[1, 'JOB':]) # slice with lower bound only\n#print(df.loc[[0,3], : ]) #empty slice (all columns)",
      "metadata": {
        "trusted": true
      },
      "execution_count": 41,
      "outputs": [
        {
          "text": "   ID_CLIENT       NAME_CLIENT       JOB SEX CURRENCY  INCOME_PER_YEAR  \\\n0    3488784  Hajdu Ors Attila  Engineer   m      EUR          23000.0   \n3    3180923     Herta Nicolae  Engineer   m      EUR           7000.0   \n\n         DATE  AGE  \n0  14-04-2006   35  \n3    9/3/2006   33  \n",
          "name": "stdout",
          "output_type": "stream"
        }
      ]
    },
    {
      "cell_type": "code",
      "source": "#Example 10\n#import pandas\ndf = pandas.read_csv('clients_leasing20.csv')\n\nprint(df.loc[(df['AGE']==35),['NAME_CLIENT']])\n#print(df['AGE']==35)",
      "metadata": {
        "trusted": true
      },
      "execution_count": 46,
      "outputs": [
        {
          "text": "                   NAME_CLIENT\n0             Hajdu Ors Attila\n1             Harpa Constantin\n19  Hreniuc Lacramioara Carmen\n",
          "name": "stdout",
          "output_type": "stream"
        }
      ]
    },
    {
      "cell_type": "code",
      "source": "#Example 11\nimport pandas\ndf = pandas.read_csv('clients_leasing20.csv')\n\nprint(df.loc[(df['AGE']==35)&(df['SEX']=='m'),['NAME_CLIENT','JOB','SEX','AGE']])",
      "metadata": {
        "trusted": true
      },
      "execution_count": 47,
      "outputs": [
        {
          "text": "        NAME_CLIENT       JOB SEX  AGE\n0  Hajdu Ors Attila  Engineer   m   35\n1  Harpa Constantin    Worker   m   35\n",
          "name": "stdout",
          "output_type": "stream"
        }
      ]
    },
    {
      "cell_type": "code",
      "source": "#Example 12\nimport pandas\ndf = pandas.read_csv('clients_leasing20.csv')\n\nprint(df.loc[df['JOB'] != 'Engineer', 'NAME_CLIENT':'INCOME_PER_YEAR'])",
      "metadata": {
        "trusted": true
      },
      "execution_count": null,
      "outputs": []
    },
    {
      "cell_type": "code",
      "source": "#Example 13\nimport pandas\ndf = pandas.read_csv('clients_leasing20.csv')\nprint(df.loc[df['NAME_CLIENT'].str.endswith(\"a\"),['NAME_CLIENT','SEX']])",
      "metadata": {
        "trusted": true
      },
      "execution_count": null,
      "outputs": []
    },
    {
      "cell_type": "code",
      "source": "#Example 14\nimport pandas\ndf = pandas.read_csv('clients_leasing20.csv')\nprint(df.loc[df['NAME_CLIENT'].str.startswith(\"Ha\"),['NAME_CLIENT','SEX']])",
      "metadata": {
        "trusted": true
      },
      "execution_count": null,
      "outputs": []
    },
    {
      "cell_type": "code",
      "source": "#Example 15\nimport pandas\ndf = pandas.read_csv('clients_leasing20.csv')\nprint(df.loc[df['JOB'].isin(['Engineer', 'Professor']),['NAME_CLIENT','SEX', 'JOB']])",
      "metadata": {
        "trusted": true
      },
      "execution_count": null,
      "outputs": []
    },
    {
      "cell_type": "code",
      "source": "#Example 16\nimport pandas\ndf = pandas.read_csv('clients_leasing20.csv')\n\nprint(df.loc[0, 'INCOME_PER_YEAR'])\ndf.loc[0,'INCOME_PER_YEAR']=30000\nprint(df.loc[0, 'INCOME_PER_YEAR'])",
      "metadata": {
        "trusted": true
      },
      "execution_count": 54,
      "outputs": [
        {
          "text": "23000.0\n30000.0\n",
          "name": "stdout",
          "output_type": "stream"
        }
      ]
    },
    {
      "cell_type": "code",
      "source": "#Example 17\nimport pandas\ndf = pandas.read_csv('clients_leasing20.csv')\n\ndf1=df.copy()\n\ndf1.loc[(df1['INCOME_PER_YEAR']<5000)&(df1['AGE']>30),'INCOME_PER_YEAR']=10000\n\nprint(df1[['NAME_CLIENT','INCOME_PER_YEAR', 'AGE']])\nprint(df1.loc[(df1['INCOME_PER_YEAR']==10000)&(df1['AGE']>30), ['NAME_CLIENT','INCOME_PER_YEAR', 'AGE']])",
      "metadata": {
        "trusted": true
      },
      "execution_count": null,
      "outputs": []
    },
    {
      "cell_type": "code",
      "source": "#Example 18\nimport pandas as pd\ndf = pd.read_csv('clients_leasing20.csv',usecols=['NAME_CLIENT','JOB','SEX','CURRENCY','INCOME_PER_YEAR','DATE','AGE'])\nprint(df.describe())\n#print(df.describe(include=\"all\"))\n\nprint('\\n***** Function describe() on column JOB *****')\nprint(df['JOB'].describe())\n\nprint('\\n***** Function describe() on column AGE *****')\nprint(df['AGE'].describe())",
      "metadata": {
        "trusted": true
      },
      "execution_count": null,
      "outputs": []
    },
    {
      "cell_type": "code",
      "source": "#Example 19\nimport pandas as pd\ndf = pd.read_csv('clients_leasing20.csv',usecols=['NAME_CLIENT','JOB','SEX','CURRENCY','INCOME_PER_YEAR','DATE','AGE'])\n\nprint('Total income', df['INCOME_PER_YEAR'].sum())\nprint('Average income', df['INCOME_PER_YEAR'].mean())\nprint('Median of income', df['INCOME_PER_YEAR'].median())\nprint('No. of unique values', df['INCOME_PER_YEAR'].nunique())\nprint('Highest income', df['INCOME_PER_YEAR'].max())\nprint('Lowest income', df['INCOME_PER_YEAR'].min())",
      "metadata": {
        "trusted": true
      },
      "execution_count": null,
      "outputs": []
    },
    {
      "cell_type": "code",
      "source": "#Example 20\nimport pandas as pd\ndf = pd.read_csv('clients_leasing20.csv')\nprint(df.dtypes) #what are the types of AGE, DATE ?\n\ndf = pd.read_csv('clients_leasing20.csv', parse_dates = ['DATE']) #parse 'DATE' as a date column\ndf.AGE = df.AGE.astype(float) #convert AGE data to float\nprint(df.dtypes)",
      "metadata": {
        "trusted": true
      },
      "execution_count": null,
      "outputs": []
    },
    {
      "cell_type": "code",
      "source": "#Example 21\nimport pandas as pd\n\ndf = pd.read_csv('clients_leasing20missing.csv',usecols=['NAME_CLIENT','JOB','SEX','CURRENCY','INCOME_PER_YEAR','DATE','AGE'])\nprint(df['AGE'])\n#print(df.loc[df['AGE'].isnull()]) #print rows with missing values for  AGE\nprint(df['AGE'].fillna('missing')) #fill with a string",
      "metadata": {
        "trusted": true
      },
      "execution_count": null,
      "outputs": []
    },
    {
      "cell_type": "code",
      "source": "import pandas as pd\ndf = pd.read_csv('clients_leasing20missing.csv',usecols=['NAME_CLIENT','JOB','SEX','CURRENCY','INCOME_PER_YEAR','DATE','AGE'])\nmean_age = int(df['AGE'].mean())\ndf['AGE'] = df['AGE'].fillna(value = mean_age) #fill with the average value for this column\nprint(df.AGE)",
      "metadata": {
        "trusted": true
      },
      "execution_count": 9,
      "outputs": [
        {
          "text": "0     35.0\n1     35.0\n2     39.0\n3     33.0\n4     44.0\n5     54.0\n6     30.0\n7     43.0\n8     41.0\n9     39.0\n10    65.0\n11    24.0\n12    50.0\n13    40.0\n14    29.0\n15    48.0\n16    31.0\n17    39.0\n18    40.0\n19    35.0\nName: AGE, dtype: float64\n",
          "name": "stdout",
          "output_type": "stream"
        }
      ]
    },
    {
      "cell_type": "code",
      "source": "#Example 22 ====>>>> de testat\nimport pandas as pd\ndf = pd.read_csv('clients_leasing20.csv')\n\n#Remove a column - axis = 1\ndf1 = df.drop(\"ID_CLIENT\", axis=1)\nprint(df1.head())\n\n# Remove a column – using the columns argument\ndf2 = df.drop(columns=\"AGE\")\nprint(df2.head())\n\n#Remove a list of columns, save as a new csv file\ndf3 = df.drop([\"JOB\", \"SEX\"], axis=1)\nprint(df3.head())\ndf3.to_csv('clients_df.csv', index = False)\n\n#Remove column – modify the current dataframe: inplace = True, drop() returns None\ndf.drop(\"VENIT_PER_YEAR\", axis=1, inplace = True)\nprint(df.head())",
      "metadata": {},
      "execution_count": null,
      "outputs": []
    },
    {
      "cell_type": "code",
      "source": "#Example 23\nimport pandas as pd\ndf = pd.read_csv('clients_leasing20.csv')\n\n# Remove rows 3, 5, 8\ndf4 = df.drop([3,5,8], axis=0)\nprint(df4.head())",
      "metadata": {},
      "execution_count": null,
      "outputs": []
    },
    {
      "cell_type": "code",
      "source": "#Example 24\nimport pandas as pd\ndf = pd.read_csv('clients_leasing20.csv')\n# Remove clients that are Engineers.\n# set_index() sets the JOB column as index. This enables\n# us to use JOB values to select rows.\ndf5 = df.set_index(\"JOB\")\ndf5.drop(\"Inginer\", axis=0, inplace = True)\nprint(df5.head())\n\n# Remove the first five customers by ID, using iloc\n# ??? Sterge primele cinci linii cu iloc\n'''df = df.set_index(\"ID_CLIENT\")\ndf = df.iloc[0:5, ]\nprint(df)\n???''' ",
      "metadata": {},
      "execution_count": null,
      "outputs": []
    },
    {
      "cell_type": "code",
      "source": "#Example 25\nimport pandas\ndf = pandas.read_csv('clients_leasing20.csv', skiprows = [6,7,9], usecols = ['NAME_CLIENT','JOB'])\nprint(df)",
      "metadata": {},
      "execution_count": null,
      "outputs": []
    },
    {
      "cell_type": "code",
      "source": "#Example 26\nimport pandas\ndf = pandas.read_csv('clients_leasing20.csv', nrows=6, usecols = ['NAME_CLIENT','INCOME_PER_YEAR'])\nprint(df)\nprint(df['INCOME_PER_YEAR'][0] + df['INCOME_PER_YEAR'][5])",
      "metadata": {},
      "execution_count": null,
      "outputs": []
    },
    {
      "cell_type": "code",
      "source": "#Example 27\nimport pandas as pd\ndf = pd.read_csv('clients_leasing20.csv')\ndf6 = df.sort_values(by='INCOME_PER_YEAR')\nprint(df6.head(10))\ndf7.sort_values(by='AGE', ascending=False) # sort descending\nprint(df7.head(10))\ndf8.sort_values(by=['JOB', 'AGE']) #multiple sort\nprint(df8.head(10))\ndf9.sort_values(by=['JOB', ' INCOME_PER_YEAR '], ascending=[True, False]) #multiple sort with direction\nprint(df9.head(10))",
      "metadata": {},
      "execution_count": null,
      "outputs": []
    },
    {
      "cell_type": "code",
      "source": "#Example 28\nimport pandas as pd\npd.set_option(\"display.max_columns\",10)\ndf = pd.read_csv('clients_leasing20.csv')\n\ndf = df.rename(columns={\"ID_CLIENT\": \"ID\"})\ndf = df.rename(columns={\"JOB\": \"Position\"})\nprint(df.columns)\n\ndf=df.rename(\n    columns={\n        \"AGE\": \"Age\",\n        \"INCOME_PER_YEAR\": \"Income\"\n    }\n)\nprint(df.columns)\n\n# Applying a string function to col. names\ndf=df.rename(columns=str.lower) \nprint(df.columns)",
      "metadata": {},
      "execution_count": null,
      "outputs": []
    },
    {
      "cell_type": "code",
      "source": "### CSV Module\nimport csv\nwith open(path+'clients_leasing20.csv', 'r', newline='') as f:\n    reader = csv.reader(f)\n    for row in reader:\n        print (row)",
      "metadata": {
        "trusted": true
      },
      "execution_count": null,
      "outputs": []
    },
    {
      "cell_type": "code",
      "source": "#import csv #already imported\nwith open(path+'clients_leasing20.csv', 'r') as f:\n    reader = csv.reader(f)\n    for row in reader:\n        print (row[1])",
      "metadata": {
        "trusted": true
      },
      "execution_count": 33,
      "outputs": [
        {
          "text": "NAME_CLIENT\nHajdu Ors Attila\nHarpa Constantin\nHorvath Zoltan Ignac\nHerta Nicolae\nHagi Nazim\nHanda Maria\nHeredea Marius Petru\nHristea Stelian\nHaidu Gyongyi\nHurjui Mihai\nHerta Cornel Romeo\nHanes Adrian Paul\nHerteg Editha\nHasnas Luminita\nHluscu Adrian\nHanu Maria\nHuc Laura\nHodea Robert-Emanuel\nHincu Gabriel\nHreniuc Lacramioara Carmen\n",
          "name": "stdout",
          "output_type": "stream"
        }
      ]
    },
    {
      "cell_type": "code",
      "source": "#import csv\nwith open(path+'clients_leasing20.csv', 'r') as f:\n    reader = csv.reader(f)\n    for row in reader:\n        print (row[1],row[7]) #print(row[0:3])",
      "metadata": {
        "trusted": true
      },
      "execution_count": 35,
      "outputs": [
        {
          "text": "NAME_CLIENT AGE\nHajdu Ors Attila 35\nHarpa Constantin 35\nHorvath Zoltan Ignac 25\nHerta Nicolae 33\nHagi Nazim 44\nHanda Maria 54\nHeredea Marius Petru 30\nHristea Stelian 43\nHaidu Gyongyi 41\nHurjui Mihai 44\nHerta Cornel Romeo 65\nHanes Adrian Paul 24\nHerteg Editha 50\nHasnas Luminita 40\nHluscu Adrian 29\nHanu Maria 48\nHuc Laura 31\nHodea Robert-Emanuel 25\nHincu Gabriel 40\nHreniuc Lacramioara Carmen 35\n",
          "name": "stdout",
          "output_type": "stream"
        }
      ]
    },
    {
      "cell_type": "code",
      "source": "#import csv\nwith open(path+'clients_leasing20.csv', 'r') as f:\n    reader = csv.reader(f)\n    for i, row in enumerate(reader):\n        print(row)\n        if(i >= 10):\n            break",
      "metadata": {
        "trusted": true
      },
      "execution_count": null,
      "outputs": []
    },
    {
      "cell_type": "code",
      "source": "#import csv\nfrom itertools import islice\n\nwith open(path+'clients_leasing20.csv', 'r') as f:\n    reader = csv.reader(f)\n    for row in islice(reader, 10): \n        print(row)",
      "metadata": {
        "trusted": true
      },
      "execution_count": null,
      "outputs": []
    },
    {
      "cell_type": "code",
      "source": "id_client = []\nnume_client = []\nsex = []\nwith open(path+'clients_leasing20.csv', 'r') as f:\n    reader = csv.reader(f)\n    for row in reader:\n        id_client.append(row[0])\n        nume_client.append(row[1])\n        sex.append(row[3])\nprint(id_client)\nprint(nume_client)\nprint(sex)",
      "metadata": {
        "trusted": true
      },
      "execution_count": 38,
      "outputs": [
        {
          "text": "['ID_CLIENT', '3488784', '4057671', '7539733', '3180923', '1673453', '2213309', '7294773', '3669330', '1222690', '3678467', '7751562', '9490051', '75709', '1919217', '2158372', '2158955', '3795147', '6182551', '2048374', '2043893']\n['NAME_CLIENT', 'Hajdu Ors Attila', 'Harpa Constantin', 'Horvath Zoltan Ignac', 'Herta Nicolae', 'Hagi Nazim', 'Handa Maria', 'Heredea Marius Petru', 'Hristea Stelian', 'Haidu Gyongyi', 'Hurjui Mihai', 'Herta Cornel Romeo', 'Hanes Adrian Paul', 'Herteg Editha', 'Hasnas Luminita', 'Hluscu Adrian', 'Hanu Maria', 'Huc Laura', 'Hodea Robert-Emanuel', 'Hincu Gabriel', 'Hreniuc Lacramioara Carmen']\n['SEX', 'm', 'm', 'm', 'm', 'm', 'f', 'm', 'm', 'f', 'm', 'm', 'm', 'f', 'f', 'm', 'f', 'f', 'm', 'm', 'f']\n",
          "name": "stdout",
          "output_type": "stream"
        }
      ]
    },
    {
      "cell_type": "code",
      "source": "#import csv\nwith open(path+'employees.txt') as f:\n    reader = csv.reader(f, delimiter=',')\n    line_count = 0\n    for row in reader:\n        if line_count == 0:\n            #print('Column names: {}'.format(\", \".join(row))) Python version < 3.6\n            print(f'Column names: {\", \".join(row)}') #Python 3.6+ \n            line_count += 1\n        else:\n            #print('\\t{} works in: {}, born in: {}'.format(row[0],row[1],row[2])) # Python version < 3.6\n            print(f'\\t{row[0]} works in: {row[1]}, born in: {row[2]}.') #Python 3.6+ \n            line_count += 1\n    #print('{} lines were processed.'.format(line_count)) #Python version < 3.6\n    print(f'{line_count} lines were processed.') #Python 3.6+",
      "metadata": {
        "trusted": true
      },
      "execution_count": 3,
      "outputs": [
        {
          "text": "Column names: Name, Department, Month of birth\n\tPopescu Gigel works in: Accounting, born in: December.\n\tIonescu Maria works in: IT, born in: July.\n3 lines were processed.\n",
          "name": "stdout",
          "output_type": "stream"
        }
      ]
    },
    {
      "cell_type": "code",
      "source": "#import csv\nwith open(path+'employees.txt', newline='') as f:\n    reader = csv.DictReader(f, delimiter=',')\n    for row in reader:\n        print(row)",
      "metadata": {
        "trusted": true
      },
      "execution_count": null,
      "outputs": []
    },
    {
      "cell_type": "code",
      "source": "#import csv\nwith open(path+'employees1.txt', newline='') as f:\n    reader = csv.DictReader(f, delimiter =';')\n    for row in reader:\n        print(row)",
      "metadata": {
        "trusted": true
      },
      "execution_count": 53,
      "outputs": [
        {
          "text": "{'Department': 'Accounting', 'Month of birth': 'December', 'Name': 'Popescu Gigel'}\n{'Department': 'IT', 'Month of birth': 'July', 'Name': 'Ionescu Maria'}\n",
          "name": "stdout",
          "output_type": "stream"
        }
      ]
    },
    {
      "cell_type": "code",
      "source": "#import csv\nwith open(path+'employees.csv', mode='w', newline='') as f:\n    writer = csv.writer(f)\n    writer.writerow(['Cosmin Antonescu', 'Marketing', 'Noiembrie'])\n    writer.writerow(['Eugenia Marin', 'Vanzari', 'Iulie'])\n\n#check the file contents:\nwith open(path+'employees.csv') as f:\n    reader = csv.reader(f)\n    for row in reader:\n        print(row)",
      "metadata": {
        "trusted": true
      },
      "execution_count": 55,
      "outputs": [
        {
          "text": "['Cosmin Antonescu', 'Marketing', 'Noiembrie']\n['Eugenia Marin', 'Vanzari', 'Iulie']\n",
          "name": "stdout",
          "output_type": "stream"
        }
      ]
    },
    {
      "cell_type": "code",
      "source": "#import csv\nwith open(path+'employees1.csv', mode='w') as f:\n    fieldnames = ['Name', 'Dept', 'Month']\n    writer = csv.DictWriter(f, fieldnames=fieldnames)\n    writer.writeheader()\n    writer.writerow({'Name': 'Constantinescu Andrei', 'Dept': 'Accounting', 'Month': 'April'})\n    writer.writerow({'Name': 'Iliescu Emil', 'Dept': 'IT', 'Month': 'May'})\n\n#check the file contents:\nwith open(path+'employees1.csv') as f:\n    reader = csv.reader(f)\n    for row in reader:\n        print(row)",
      "metadata": {
        "trusted": true
      },
      "execution_count": 2,
      "outputs": [
        {
          "text": "['Name', 'Dept', 'Month']\n['Constantinescu Andrei', 'Accounting', 'April']\n['Iliescu Emil', 'IT', 'May']\n",
          "name": "stdout",
          "output_type": "stream"
        }
      ]
    },
    {
      "cell_type": "code",
      "source": "",
      "metadata": {},
      "execution_count": null,
      "outputs": []
    }
  ]
}